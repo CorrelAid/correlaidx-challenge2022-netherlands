{
 "cells": [
  {
   "cell_type": "markdown",
   "id": "6a99055d",
   "metadata": {},
   "source": [
    "# General Dutch Survey\n",
    "\n",
    "This notebook searches for any Dutch references in the offshore leaks database."
   ]
  },
  {
   "cell_type": "markdown",
   "id": "91e48caf",
   "metadata": {},
   "source": [
    "## Preliminaries\n",
    "\n",
    "Please note the general set-up requirements contained in the repo readme and the _showcase_ notebook.\n",
    "Remember that the database needs to be running locally for this workbook to work."
   ]
  },
  {
   "cell_type": "code",
   "execution_count": null,
   "id": "d245cc9b",
   "metadata": {},
   "outputs": [],
   "source": [
    "#imports\n",
    "import os  #to find the settings file(s)\n",
    "import csv #to process the settings file(s)\n",
    "import shutil #to copy the settings file (if needed)\n",
    "from neo4j import GraphDatabase\n",
    "import pandas as pd"
   ]
  },
  {
   "cell_type": "code",
   "execution_count": null,
   "id": "9b2a3c0c",
   "metadata": {},
   "outputs": [],
   "source": [
    "#get settings\n",
    "settings_dir = os.path.join(\"..\",\"settings\")\n",
    "personal_settings = os.path.join(settings_dir,\"personal_settings.csv\")\n",
    "if not \"personal_settings.csv\" in os.listdir(settings_dir):\n",
    "    default_settings = os.path.join(settings_dir,\"default_settings.csv\")\n",
    "    shutil.copy(default_settings, personal_settings)\n",
    "    print(\"Created new personal settings file, this probably needs to be edited before proceeding.\")\n",
    "with open(personal_settings, mode = 'r') as file:\n",
    "    user_settings = {}\n",
    "    for line in csv.DictReader(file):\n",
    "        user_settings[line['setting']] = line['value']\n",
    "db_uri = \"bolt://localhost:\" + str(user_settings['port_number'])"
   ]
  },
  {
   "cell_type": "code",
   "execution_count": null,
   "id": "b3836c67",
   "metadata": {},
   "outputs": [],
   "source": [
    "#data path\n",
    "data_root = os.path.join(\"..\",\"data\")\n",
    "data_david = os.path.join(data_root,\"extracts\",\"david\")"
   ]
  },
  {
   "cell_type": "code",
   "execution_count": null,
   "id": "4dc7ff77",
   "metadata": {},
   "outputs": [],
   "source": [
    "db_connection = GraphDatabase.driver(db_uri, auth=(user_settings['username'],user_settings['password']))"
   ]
  },
  {
   "cell_type": "code",
   "execution_count": null,
   "id": "df55c9ee",
   "metadata": {},
   "outputs": [],
   "source": [
    "db_session = db_connection.session(database=user_settings['db_name'])"
   ]
  },
  {
   "cell_type": "code",
   "execution_count": null,
   "id": "b0adc7e3",
   "metadata": {},
   "outputs": [],
   "source": [
    "#possibly superfluous helper function\n",
    "def df_oneliner(df):\n",
    "    return f\"The dataset contains {df.shape[0]} records.\""
   ]
  },
  {
   "cell_type": "code",
   "execution_count": null,
   "id": "5ce99289",
   "metadata": {},
   "outputs": [],
   "source": [
    "#check that country and country codes are matchiung correctly\n",
    "def nl_country_code_checker(database_session, node_type):\n",
    "    #query building blocks\n",
    "    query_start = \"MATCH (n:\" + node_type + \") WHERE \"\n",
    "    query_end = \" RETURN COUNT(n)\"\n",
    "    query_country_codes = \"n.country_codes CONTAINS 'NLD'\"\n",
    "    query_countries = \"n.countries CONTAINS 'Netherlands'\"\n",
    "    #test queries\n",
    "    query = query_start + query_country_codes + query_end\n",
    "    result = database_session.run(query)\n",
    "    code_count = result.value()[0]    \n",
    "    query = query_start + query_countries + query_end\n",
    "    result = database_session.run(query)\n",
    "    country_count = result.value()[0]\n",
    "    query = query_start + \"(\" + query_country_codes + \" AND \" + query_countries + \")\" + query_end\n",
    "    result = database_session.run(query)\n",
    "    code_country_count = result.value()[0]\n",
    "    #check results\n",
    "    if (code_count==country_count and code_count==code_country_count):\n",
    "        print(f\"{code_count} {node_type} entries found for NL with country name and code are applied consistently.\")\n",
    "        return True\n",
    "    else:\n",
    "        string_temp = f\"Country name ({country_count}) and codes ({code_count}) not applied consistently\"\n",
    "        string_temp = string_temp + f\" for NL {node_type} entries, with {code_country_count} entries having both.\"\n",
    "        print(string_temp)\n",
    "        return False"
   ]
  },
  {
   "cell_type": "markdown",
   "id": "c5d2ea8c",
   "metadata": {},
   "source": [
    "## Find Dutch Addresses\n",
    "\n",
    "In the dataset there are various country identifiers.\n",
    "For entities, there are at least four relevant fields: _country_codes_, _countries_, _juridisdiction_description_ and _address_. \n",
    "For officers, only the two country fields appear to be present. We start by checking whether the fields for country codes and countries are consistent with each other."
   ]
  },
  {
   "cell_type": "code",
   "execution_count": null,
   "id": "bae6a7aa",
   "metadata": {},
   "outputs": [],
   "source": [
    "#quick checks\n",
    "check_one = nl_country_code_checker(db_session,'Entity')\n",
    "check_two = nl_country_code_checker(db_session,'Officer')\n",
    "if(check_one and check_two):\n",
    "    check=True\n",
    "else:\n",
    "    check=False\n",
    "check"
   ]
  },
  {
   "cell_type": "markdown",
   "id": "25c1cf7c",
   "metadata": {},
   "source": [
    "Note that the above quick checks do not capture situations where neither the country name or country code are provided as expected (e.g. the code _NL_ with country name _Nederland_ would be ignored and excluded). However, it does still tell us something about whether we can trust the codes and country naming. If the code returns more results and the name the same number as the results query, we do get the option to query more broadly (on country code) or more narrowly (on country name)."
   ]
  },
  {
   "cell_type": "code",
   "execution_count": null,
   "id": "d489d777",
   "metadata": {},
   "outputs": [],
   "source": [
    "#look at officers 'mismatch'\n",
    "query = \"match (n:Officer) where (n.country_codes CONTAINS 'NLD' AND NOT n.countries CONTAINS 'Netherlands') return n\"\n",
    "query_response = db_session.run(query)\n",
    "officers_mismatch_nl = pd.DataFrame([dict(record.data()['n']) for record in query_response])\n",
    "df_oneliner(officers_mismatch_nl)"
   ]
  },
  {
   "cell_type": "code",
   "execution_count": null,
   "id": "c11306c4",
   "metadata": {},
   "outputs": [],
   "source": [
    "officers_mismatch_nl"
   ]
  },
  {
   "cell_type": "code",
   "execution_count": null,
   "id": "26f76474",
   "metadata": {},
   "outputs": [],
   "source": [
    "#look at entities\n",
    "query = \"MATCH (n:Entity) WHERE n.country_codes CONTAINS 'NLD' RETURN n\"\n",
    "query_response = db_session.run(query)\n",
    "entities_nl = pd.DataFrame([dict(record.data()['n']) for record in query_response])\n",
    "df_oneliner(entities_nl)"
   ]
  },
  {
   "cell_type": "code",
   "execution_count": null,
   "id": "ad6375af",
   "metadata": {},
   "outputs": [],
   "source": [
    "entities_nl"
   ]
  },
  {
   "cell_type": "code",
   "execution_count": null,
   "id": "c3f7a43c",
   "metadata": {},
   "outputs": [],
   "source": [
    "#look at officers\n",
    "query = \"MATCH (n:Officer) WHERE n.country_codes CONTAINS 'NLD' RETURN n\"\n",
    "query_response = db_session.run(query)\n",
    "officers_nl = pd.DataFrame([dict(record.data()['n']) for record in query_response])\n",
    "df_oneliner(officers_nl)"
   ]
  },
  {
   "cell_type": "code",
   "execution_count": null,
   "id": "ceff9233",
   "metadata": {},
   "outputs": [],
   "source": [
    "officers_nl"
   ]
  },
  {
   "cell_type": "markdown",
   "id": "fb9e2cc2",
   "metadata": {},
   "source": [
    "## Load Results David\n",
    "\n",
    "David separately extracted data on entities and officers based in the Netherlands."
   ]
  },
  {
   "cell_type": "code",
   "execution_count": null,
   "id": "8957d85e",
   "metadata": {},
   "outputs": [],
   "source": [
    "#file names\n",
    "entities_file_david = \"entities_nl_address.csv\"\n",
    "officers_file_david = \"officers_nl_address.csv\""
   ]
  },
  {
   "cell_type": "code",
   "execution_count": null,
   "id": "86ca6a49",
   "metadata": {},
   "outputs": [],
   "source": [
    "#entities david\n",
    "entities_david = pd.read_csv(os.path.join(data_david,entities_file_david))\n",
    "df_oneliner(entities_david)"
   ]
  },
  {
   "cell_type": "code",
   "execution_count": null,
   "id": "d4b4df83",
   "metadata": {},
   "outputs": [],
   "source": [
    "#officers david\n",
    "officers_david = pd.read_csv(os.path.join(data_david,officers_file_david))\n",
    "df_oneliner(officers_david)"
   ]
  },
  {
   "cell_type": "code",
   "execution_count": null,
   "id": "0ddabe13",
   "metadata": {},
   "outputs": [],
   "source": [
    "#TODO: compare data with David's explicitly\n",
    "#TODO: make composite search that finds all with Dutch connection\n",
    "#TODO: make 2nd generation (or further) matching based on full Dutch datasets\n",
    "#TODO: have summary statistics to compare prevalence of NL in the datasets (ideally by dataset)"
   ]
  }
 ],
 "metadata": {
  "kernelspec": {
   "display_name": "Python 3 (ipykernel)",
   "language": "python",
   "name": "python3"
  },
  "language_info": {
   "codemirror_mode": {
    "name": "ipython",
    "version": 3
   },
   "file_extension": ".py",
   "mimetype": "text/x-python",
   "name": "python",
   "nbconvert_exporter": "python",
   "pygments_lexer": "ipython3",
   "version": "3.9.5"
  }
 },
 "nbformat": 4,
 "nbformat_minor": 5
}
