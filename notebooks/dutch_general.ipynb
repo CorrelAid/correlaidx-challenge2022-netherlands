{
 "cells": [
  {
   "cell_type": "markdown",
   "id": "6a99055d",
   "metadata": {},
   "source": [
    "# General Dutch Survey\n",
    "\n",
    "This notebook searches for any Dutch references in the offshore leaks database."
   ]
  },
  {
   "cell_type": "markdown",
   "id": "91e48caf",
   "metadata": {},
   "source": [
    "## Preliminaries\n",
    "\n",
    "Please note the general set-up requirements contained in the repo readme and the _showcase_ notebook.\n",
    "Remember that the database needs to be running locally for this workbook to work."
   ]
  },
  {
   "cell_type": "code",
   "execution_count": null,
   "id": "d245cc9b",
   "metadata": {},
   "outputs": [],
   "source": [
    "#imports\n",
    "import os  #to find the settings file(s)\n",
    "import csv #to process the settings file(s)\n",
    "import shutil #to copy the settings file (if needed)\n",
    "from neo4j import GraphDatabase\n",
    "import pandas as pd"
   ]
  },
  {
   "cell_type": "code",
   "execution_count": null,
   "id": "9b2a3c0c",
   "metadata": {},
   "outputs": [],
   "source": [
    "#get settings\n",
    "settings_dir = os.path.join(\"..\",\"settings\")\n",
    "personal_settings = os.path.join(settings_dir,\"personal_settings.csv\")\n",
    "if not \"personal_settings.csv\" in os.listdir(settings_dir):\n",
    "    default_settings = os.path.join(settings_dir,\"default_settings.csv\")\n",
    "    shutil.copy(default_settings, personal_settings)\n",
    "    print(\"Created new personal settings file, this probably needs to be edited before proceeding.\")\n",
    "with open(personal_settings, mode = 'r') as file:\n",
    "    user_settings = {}\n",
    "    for line in csv.DictReader(file):\n",
    "        user_settings[line['setting']] = line['value']\n",
    "db_uri = \"bolt://localhost:\" + str(user_settings['port_number'])"
   ]
  },
  {
   "cell_type": "code",
   "execution_count": null,
   "id": "b3836c67",
   "metadata": {},
   "outputs": [],
   "source": [
    "#data path\n",
    "data_root = os.path.join(\"..\",\"data\")\n",
    "data_david = os.path.join(data_root,\"extracts\",\"david\")\n",
    "data_david"
   ]
  },
  {
   "cell_type": "code",
   "execution_count": null,
   "id": "4dc7ff77",
   "metadata": {},
   "outputs": [],
   "source": [
    "db_connection = GraphDatabase.driver(db_uri, auth=(user_settings['username'],user_settings['password']))"
   ]
  },
  {
   "cell_type": "code",
   "execution_count": null,
   "id": "df55c9ee",
   "metadata": {},
   "outputs": [],
   "source": [
    "db_session = db_connection.session(database=user_settings['db_name'])"
   ]
  },
  {
   "cell_type": "markdown",
   "id": "c5d2ea8c",
   "metadata": {},
   "source": [
    "## Find Dutch Addresses"
   ]
  },
  {
   "cell_type": "code",
   "execution_count": null,
   "id": "26f76474",
   "metadata": {},
   "outputs": [],
   "source": [
    "#look at entities\n",
    "query = \"match (n:Entity) where n.countries ends with 'Netherlands' return n\"\n",
    "query_response = db_session.run(query)\n",
    "entities_nl = pd.DataFrame([dict(record.data()['n']) for record in query_response])\n",
    "entities_nl"
   ]
  },
  {
   "cell_type": "code",
   "execution_count": null,
   "id": "d489d777",
   "metadata": {},
   "outputs": [],
   "source": [
    "#look at officers\n",
    "query = \"match (n:Officer) where n.countries ends with 'Netherlands' return n\"\n",
    "query_response = db_session.run(query)\n",
    "officers_nl = pd.DataFrame([dict(record.data()['n']) for record in query_response])\n",
    "officers_nl"
   ]
  },
  {
   "cell_type": "markdown",
   "id": "fb9e2cc2",
   "metadata": {},
   "source": [
    "## Load Results David\n",
    "\n",
    "David separately extracted data on entities and officers based in the Netherlands."
   ]
  },
  {
   "cell_type": "code",
   "execution_count": null,
   "id": "8957d85e",
   "metadata": {},
   "outputs": [],
   "source": [
    "#file names\n",
    "entities_file_david = \"entities_nl_address.csv\"\n",
    "officers_file_david = \"officers_nl_address.csv\""
   ]
  },
  {
   "cell_type": "code",
   "execution_count": null,
   "id": "86ca6a49",
   "metadata": {},
   "outputs": [],
   "source": [
    "#entities david\n",
    "entities_david = pd.read_csv(os.path.join(data_david,entities_file_david))\n",
    "entities_david"
   ]
  },
  {
   "cell_type": "code",
   "execution_count": null,
   "id": "d4b4df83",
   "metadata": {},
   "outputs": [],
   "source": [
    "# officers david\n",
    "officers_david = pd.read_csv(os.path.join(data_david,officers_file_david))\n",
    "officers_david"
   ]
  },
  {
   "cell_type": "code",
   "execution_count": null,
   "id": "0ddabe13",
   "metadata": {},
   "outputs": [],
   "source": [
    "#TODO: compare data with David's explicitly\n",
    "#TODO: look for 'contains' rather than 'ends with'\n",
    "#TODO: make composite search that finds all with Dutch connection\n",
    "#TODO: make 2nd generation (or further) matching based on full Dutch datasets\n",
    "#TODO: have summary statistics to compare prevalence of NL in the datasets (ideally by dataset)"
   ]
  }
 ],
 "metadata": {
  "kernelspec": {
   "display_name": "Python 3 (ipykernel)",
   "language": "python",
   "name": "python3"
  },
  "language_info": {
   "codemirror_mode": {
    "name": "ipython",
    "version": 3
   },
   "file_extension": ".py",
   "mimetype": "text/x-python",
   "name": "python",
   "nbconvert_exporter": "python",
   "pygments_lexer": "ipython3",
   "version": "3.9.5"
  }
 },
 "nbformat": 4,
 "nbformat_minor": 5
}
