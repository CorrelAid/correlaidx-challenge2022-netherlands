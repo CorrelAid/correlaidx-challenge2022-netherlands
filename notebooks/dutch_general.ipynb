{
 "cells": [
  {
   "cell_type": "markdown",
   "id": "6a99055d",
   "metadata": {},
   "source": [
    "# General Dutch Survey\n",
    "\n",
    "This notebook searches for any Dutch references in the offshore leaks database."
   ]
  },
  {
   "cell_type": "markdown",
   "id": "91e48caf",
   "metadata": {},
   "source": [
    "## Preliminaries\n",
    "\n",
    "Please note the general set-up requirements contained in the repo readme and the _showcase_ notebook.\n",
    "Remember that the database needs to be running locally for this workbook to work."
   ]
  },
  {
   "cell_type": "code",
   "execution_count": null,
   "id": "d245cc9b",
   "metadata": {},
   "outputs": [],
   "source": [
    "#imports\n",
    "import os  #to find the settings file(s)\n",
    "import csv #to process the settings file(s)\n",
    "import shutil #to copy the settings file (if needed)\n",
    "from neo4j import GraphDatabase\n",
    "import pandas as pd"
   ]
  },
  {
   "cell_type": "code",
   "execution_count": null,
   "id": "9b2a3c0c",
   "metadata": {},
   "outputs": [],
   "source": [
    "#get settings\n",
    "settings_dir = os.path.join(\"..\",\"settings\")\n",
    "personal_settings = os.path.join(settings_dir,\"personal_settings.csv\")\n",
    "if not \"personal_settings.csv\" in os.listdir(settings_dir):\n",
    "    default_settings = os.path.join(settings_dir,\"default_settings.csv\")\n",
    "    shutil.copy(default_settings, personal_settings)\n",
    "    print(\"Created new personal settings file, this probably needs to be edited before proceeding.\")\n",
    "with open(personal_settings, mode = 'r') as file:\n",
    "    user_settings = {}\n",
    "    for line in csv.DictReader(file):\n",
    "        user_settings[line['setting']] = line['value']\n",
    "db_uri = \"bolt://localhost:\" + str(user_settings['port_number'])"
   ]
  },
  {
   "cell_type": "code",
   "execution_count": null,
   "id": "b3836c67",
   "metadata": {},
   "outputs": [],
   "source": [
    "#data path\n",
    "data_root = os.path.join(\"..\",\"data\")\n",
    "data_david = os.path.join(data_root,\"extracts\",\"david\")"
   ]
  },
  {
   "cell_type": "code",
   "execution_count": null,
   "id": "4dc7ff77",
   "metadata": {},
   "outputs": [],
   "source": [
    "db_connection = GraphDatabase.driver(db_uri, auth=(user_settings['username'],user_settings['password']))"
   ]
  },
  {
   "cell_type": "code",
   "execution_count": null,
   "id": "df55c9ee",
   "metadata": {},
   "outputs": [],
   "source": [
    "db_session = db_connection.session(database=user_settings['db_name'])"
   ]
  },
  {
   "cell_type": "code",
   "execution_count": null,
   "id": "b0adc7e3",
   "metadata": {},
   "outputs": [],
   "source": [
    "#possibly superfluous helper function\n",
    "def df_oneliner(df):\n",
    "    return f\"The dataset contains {df.shape[0]} records.\""
   ]
  },
  {
   "cell_type": "code",
   "execution_count": null,
   "id": "5ce99289",
   "metadata": {},
   "outputs": [],
   "source": [
    "#check that country and country codes are matchiung correctly\n",
    "def nl_country_code_checker(database_session, node_type):\n",
    "    #query building blocks\n",
    "    query_start = \"MATCH (n:\" + node_type + \") WHERE \"\n",
    "    query_end = \" RETURN COUNT(n)\"\n",
    "    query_country_codes = \"n.country_codes CONTAINS 'NLD'\"\n",
    "    query_countries = \"n.countries CONTAINS 'Netherlands'\"\n",
    "    #test queries\n",
    "    query = query_start + query_country_codes + query_end\n",
    "    result = database_session.run(query)\n",
    "    code_count = result.value()[0]    \n",
    "    query = query_start + query_countries + query_end\n",
    "    result = database_session.run(query)\n",
    "    country_count = result.value()[0]\n",
    "    query = query_start + \"(\" + query_country_codes + \" AND \" + query_countries + \")\" + query_end\n",
    "    result = database_session.run(query)\n",
    "    code_country_count = result.value()[0]\n",
    "    #check results\n",
    "    if (code_count==country_count and code_count==code_country_count):\n",
    "        print(f\"{code_count} {node_type} entries found for NL with country name and code are applied consistently.\")\n",
    "        return True\n",
    "    else:\n",
    "        string_temp = f\"Country name ({country_count}) and codes ({code_count}) not applied consistently\"\n",
    "        string_temp = string_temp + f\" for NL {node_type} entries, with {code_country_count} entries having both.\"\n",
    "        print(string_temp)\n",
    "        return False"
   ]
  },
  {
   "cell_type": "markdown",
   "id": "6af8b357",
   "metadata": {},
   "source": [
    "## Database Summary Statistics\n",
    "\n",
    "Before looking at the Dutch specific contents, it can be good to take an overall look at the database contents."
   ]
  },
  {
   "cell_type": "code",
   "execution_count": null,
   "id": "d0ba07e7",
   "metadata": {},
   "outputs": [],
   "source": [
    "#get node types\n",
    "query = \"MATCH (n) WITH labels(n) as labels RETURN DISTINCT labels\"\n",
    "query_response = db_session.run(query)\n",
    "node_types = pd.DataFrame([dict(record.data()) for record in query_response])\n",
    "node_types"
   ]
  },
  {
   "cell_type": "code",
   "execution_count": null,
   "id": "50d433ae",
   "metadata": {},
   "outputs": [],
   "source": [
    "#get node frequency by type\n",
    "query = \"MATCH (n) RETURN COUNT(n), labels(n)\"\n",
    "query_response = db_session.run(query)\n",
    "node_type_frequency = pd.DataFrame([dict(record.data()) for record in query_response])\n",
    "node_type_frequency"
   ]
  },
  {
   "cell_type": "code",
   "execution_count": null,
   "id": "feb7964d",
   "metadata": {},
   "outputs": [],
   "source": [
    "#get all the property keys\n",
    "query = \"CALL db.propertyKeys()\"\n",
    "query_response = db_session.run(query)\n",
    "node_source = pd.DataFrame([dict(record.data()) for record in query_response])\n",
    "node_source.sort_values(by='propertyKey')"
   ]
  },
  {
   "cell_type": "code",
   "execution_count": null,
   "id": "db7ceb2d",
   "metadata": {},
   "outputs": [],
   "source": [
    "#get frequency by source (i.e. which leak the nodes are from)\n",
    "query = \"MATCH (n) RETURN COUNT(n), LEFT(n.sourceID,15)\"\n",
    "query_response = db_session.run(query)\n",
    "node_source = pd.DataFrame([dict(record.data()) for record in query_response])\n",
    "node_source"
   ]
  },
  {
   "cell_type": "markdown",
   "id": "3f11bc5b",
   "metadata": {},
   "source": [
    "## DB Cleaning\n",
    "\n",
    "From the above summary statistics, it is clear that there are some issues with the database. In this section, we investigate and try to correct for those so that subsequent queries do not become further complicated by them. Note that the corrections made will change the actual database, so that the statistics found below will be changed the second time they are run."
   ]
  },
  {
   "cell_type": "markdown",
   "id": "bc9a565c",
   "metadata": {},
   "source": [
    "### Investigate Issues\n",
    "\n",
    "Here we look into the various 'country' property keys and how they are used."
   ]
  },
  {
   "cell_type": "code",
   "execution_count": null,
   "id": "355e278f",
   "metadata": {},
   "outputs": [],
   "source": [
    "#investigate country vs countries\n",
    "query = \"MATCH (n) WHERE EXISTS(n.country) RETURN COUNT(n)\"\n",
    "query_response = db_session.run(query)\n",
    "country_count = query_response.data(0)[0]['COUNT(n)']\n",
    "string_temp = f\"There are {country_count} nodes with the country property specified.\"\n",
    "print(string_temp)\n",
    "query = \"MATCH (n) WHERE EXISTS(n.countries) RETURN COUNT(n)\"\n",
    "query_response = db_session.run(query)\n",
    "countries_count = query_response.data(0)[0]['COUNT(n)']\n",
    "string_temp = f\"There are {countries_count} nodes with the countries property specified.\"\n",
    "print(string_temp)\n",
    "query = \"MATCH (n) WHERE (EXISTS(n.country) AND EXISTS(n.countries)) RETURN COUNT(n) LIMIT 5\"\n",
    "query_response = db_session.run(query)\n",
    "country_countries_count = query_response.data(0)[0]['COUNT(n)']\n",
    "string_temp = f\"There are {country_countries_count} nodes with both the country and countries properties specified.\"\n",
    "print(string_temp)"
   ]
  },
  {
   "cell_type": "code",
   "execution_count": null,
   "id": "6cb3ef9c",
   "metadata": {},
   "outputs": [],
   "source": [
    "#investigate country_code vs country_codes\n",
    "query = \"MATCH (n) WHERE EXISTS(n.country_code) RETURN COUNT(n)\"\n",
    "query_response = db_session.run(query)\n",
    "country_code_count = query_response.data(0)[0]['COUNT(n)']\n",
    "string_temp = f\"There are {country_code_count} nodes with the country_code property specified.\"\n",
    "print(string_temp)\n",
    "query = \"MATCH (n) WHERE EXISTS(n.country_codes) RETURN COUNT(n)\"\n",
    "query_response = db_session.run(query)\n",
    "country_codes_count = query_response.data(0)[0]['COUNT(n)']\n",
    "string_temp = f\"There are {country_codes_count} nodes with the country_codes property specified.\"\n",
    "print(string_temp)\n",
    "query = \"MATCH (n) WHERE (EXISTS(n.country_code) AND EXISTS(n.country_codes)) RETURN COUNT(n) LIMIT 5\"\n",
    "query_response = db_session.run(query)\n",
    "country_code_codes_count = query_response.data(0)[0]['COUNT(n)']\n",
    "string_temp = f\"There are {country_code_codes_count} nodes with both the country_code and country_codes properties specified.\"\n",
    "print(string_temp)"
   ]
  },
  {
   "cell_type": "code",
   "execution_count": null,
   "id": "1f634a21",
   "metadata": {},
   "outputs": [],
   "source": [
    "#double check that the singular naming is consistent with country and code\n",
    "query = \"MATCH (n) WHERE (EXISTS(n.country) AND EXISTS(n.country_code)) RETURN COUNT(n)\"\n",
    "query_response = db_session.run(query)\n",
    "singular_count = pd.DataFrame([dict(record.data()) for record in query_response])\n",
    "singular_count"
   ]
  },
  {
   "cell_type": "code",
   "execution_count": null,
   "id": "93458f71",
   "metadata": {},
   "outputs": [],
   "source": [
    "#check source of the singular country property key\n",
    "query = \"MATCH (n) WHERE (EXISTS(n.country) AND EXISTS(n.country_code)) RETURN COUNT(n), LEFT(n.sourceID,15)\"\n",
    "query_response = db_session.run(query)\n",
    "singular = pd.DataFrame([dict(record.data()) for record in query_response])\n",
    "singular"
   ]
  },
  {
   "cell_type": "code",
   "execution_count": null,
   "id": "feeb4d77",
   "metadata": {},
   "outputs": [],
   "source": [
    "query = \"MATCH (n) WHERE EXISTS(n.countries) RETURN COUNT(n), LEFT(n.sourceID,15)\"\n",
    "query_response = db_session.run(query)\n",
    "plural = pd.DataFrame([dict(record.data()) for record in query_response])\n",
    "plural"
   ]
  },
  {
   "cell_type": "code",
   "execution_count": null,
   "id": "895d5215",
   "metadata": {},
   "outputs": [],
   "source": [
    "#coutnries typo\n",
    "query = \"MATCH (n) WHERE EXISTS(n.coutnries) RETURN COUNT(n)\"\n",
    "query_response = db_session.run(query)\n",
    "coutnries = pd.DataFrame([dict(record.data()) for record in query_response])\n",
    "coutnries"
   ]
  },
  {
   "cell_type": "markdown",
   "id": "b885f3ff",
   "metadata": {},
   "source": [
    "### Fix Issues\n",
    "\n",
    "Regarding the findings mentioned here, not that they are only correct with respect to a virgin copy of the database.\n",
    "After these fixes are run, these will be changed of course.\n",
    "However, all the _fixes_ should be addititive (adding new properties) rather than deleting anything.\n",
    "In this way, genuinely breaking changes are hopefully avoided.\n",
    "\n",
    "Despite finding a property key with a typo in the name countries, we don't find any nodes using it.\n",
    "Cypher apparently lacks good support for removing unused property keys from the database.\n",
    "This suggests it is just in there because this typo was once made, hence why I can't find it in use in the current database.\n",
    "Futhermore, it also suggests it is very much not worth the effort for us to explicitly remove it.\n",
    "\n",
    "For the singular vs plural issue around countries and country codes, we see that they are used disjointly.\n",
    "It seems that in the paradise papers, they used the singular naming for cases where only one country is involved.\n",
    "There is some naive, but flawed logic to that.\n",
    "To simplify life, we will map all to the plural naming convention.\n",
    "Note that after doing this the comparison with David's data search will need to be re-checked.\n",
    "\n",
    "The sourceID column breaks down the source (by leak) into a level of granularity which I find unhelpful.\n",
    "In this section, we will also make a new column called _leak_ that specifics this more simply."
   ]
  },
  {
   "cell_type": "code",
   "execution_count": null,
   "id": "8c6ad3f2",
   "metadata": {},
   "outputs": [],
   "source": [
    "#Neo4j doesn't seem to do batching to avoid crashes, so we do it manually\n",
    "batch_size = 100000  #on my machine, this size gives execution per batch in a couple of seconds rather than crashing"
   ]
  },
  {
   "cell_type": "code",
   "execution_count": null,
   "id": "14268568",
   "metadata": {},
   "outputs": [],
   "source": [
    "#create leak column (like sourceID but simpler)\n",
    "batch_number = 0\n",
    "while True:  #Python doesn't have do while explicitly, but you can do it this way \n",
    "    query = \"MATCH (n) WHERE (EXISTS(n.sourceID) AND NOT EXISTS(n.leak)) WITH n LIMIT \" + str(batch_size)\n",
    "    query = query + \" SET n.leak = LEFT(n.sourceID,15) RETURN COUNT(n), n.leak\"\n",
    "    query_response = db_session.run(query)\n",
    "    leak_source = pd.DataFrame([dict(record.data()) for record in query_response])\n",
    "    batch_number = batch_number+1\n",
    "    print(f\"Batch {batch_number} of size {batch_size} completed.\")\n",
    "    if(leak_source.empty):\n",
    "        break\n",
    "query = \"MATCH (n) RETURN COUNT(n), n.leak\"\n",
    "query_response = db_session.run(query)\n",
    "leak_source = pd.DataFrame([dict(record.data()) for record in query_response])\n",
    "leak_source"
   ]
  },
  {
   "cell_type": "code",
   "execution_count": null,
   "id": "03af4c9e",
   "metadata": {},
   "outputs": [],
   "source": [
    "#merge singular country and country_code columns to plural\n",
    "batch_number = 0\n",
    "while True:  #Python doesn't have do while explicitly, but you can do it this way \n",
    "    query = \"MATCH (n) WHERE (EXISTS(n.country) AND NOT EXISTS(n.countries)) WITH n LIMIT \" + str(batch_size)\n",
    "    query = query + \" SET n.countries = n.country, n.country_codes = n.country_code RETURN COUNT(n)\"\n",
    "    query_response = db_session.run(query)\n",
    "    country_plural = pd.DataFrame([dict(record.data()) for record in query_response])\n",
    "    batch_number = batch_number+1\n",
    "    print(f\"Batch {batch_number} of size {batch_size} completed.\")\n",
    "    if country_plural.loc[0,'COUNT(n)']==0:\n",
    "        break      \n",
    "query = \"MATCH (n) WHERE (EXISTS(n.country) AND NOT EXISTS(n.countries)) RETURN COUNT(n)\"\n",
    "query_response = db_session.run(query)\n",
    "country_singular = pd.DataFrame([dict(record.data()) for record in query_response])\n",
    "country_singular"
   ]
  },
  {
   "cell_type": "markdown",
   "id": "c5d2ea8c",
   "metadata": {},
   "source": [
    "## Find Dutch Addresses\n",
    "\n",
    "In the dataset there are various country identifiers.\n",
    "For entities, there are at least four relevant fields: 'country_codes', 'countries', 'juridisdiction_description' and 'address'. \n",
    "For officers, only the two country fields appear to be present. We start by checking whether the fields for country codes and countries are consistent with each other."
   ]
  },
  {
   "cell_type": "code",
   "execution_count": null,
   "id": "bae6a7aa",
   "metadata": {},
   "outputs": [],
   "source": [
    "#quick checks\n",
    "check_one = nl_country_code_checker(db_session,'Entity')\n",
    "check_two = nl_country_code_checker(db_session,'Officer')\n",
    "if(check_one and check_two):\n",
    "    check=True\n",
    "else:\n",
    "    check=False\n",
    "check"
   ]
  },
  {
   "cell_type": "markdown",
   "id": "25c1cf7c",
   "metadata": {},
   "source": [
    "Note that the above quick checks do not capture situations where neither the country name or country code are provided as expected (e.g. the code _NL_ with country name _Nederland_ would be ignored and excluded). However, it does still tell us something about whether we can trust the codes and country naming. If the code returns more results and the name the same number as the results query, we do get the option to query more broadly (on country code) or more narrowly (on country name)."
   ]
  },
  {
   "cell_type": "code",
   "execution_count": null,
   "id": "d489d777",
   "metadata": {},
   "outputs": [],
   "source": [
    "#look at officers 'mismatch'\n",
    "query = \"MATCH (n:Officer) WHERE (n.country_codes CONTAINS 'NLD' AND NOT n.countries CONTAINS 'Netherlands') RETURN n\"\n",
    "query_response = db_session.run(query)\n",
    "officers_mismatch_nl = pd.DataFrame([dict(record.data()['n']) for record in query_response])\n",
    "df_oneliner(officers_mismatch_nl)"
   ]
  },
  {
   "cell_type": "code",
   "execution_count": null,
   "id": "c11306c4",
   "metadata": {},
   "outputs": [],
   "source": [
    "officers_mismatch_nl"
   ]
  },
  {
   "cell_type": "code",
   "execution_count": null,
   "id": "26f76474",
   "metadata": {},
   "outputs": [],
   "source": [
    "#look at entities\n",
    "query = \"MATCH (n:Entity) WHERE n.country_codes CONTAINS 'NLD' RETURN n\"\n",
    "query_response = db_session.run(query)\n",
    "entities_nl = pd.DataFrame([dict(record.data()['n']) for record in query_response])\n",
    "df_oneliner(entities_nl)"
   ]
  },
  {
   "cell_type": "code",
   "execution_count": null,
   "id": "ad6375af",
   "metadata": {},
   "outputs": [],
   "source": [
    "entities_nl"
   ]
  },
  {
   "cell_type": "code",
   "execution_count": null,
   "id": "c3f7a43c",
   "metadata": {},
   "outputs": [],
   "source": [
    "#look at officers\n",
    "query = \"MATCH (n:Officer) WHERE n.country_codes CONTAINS 'NLD' RETURN n\"\n",
    "query_response = db_session.run(query)\n",
    "officers_nl = pd.DataFrame([dict(record.data()['n']) for record in query_response])\n",
    "df_oneliner(officers_nl)"
   ]
  },
  {
   "cell_type": "code",
   "execution_count": null,
   "id": "ceff9233",
   "metadata": {},
   "outputs": [],
   "source": [
    "officers_nl"
   ]
  },
  {
   "cell_type": "markdown",
   "id": "fb9e2cc2",
   "metadata": {},
   "source": [
    "## Load Results David\n",
    "\n",
    "David separately extracted data on entities and officers based in the Netherlands.\n",
    "These are saved as csv files, but we also now have the explicit query strings."
   ]
  },
  {
   "cell_type": "code",
   "execution_count": null,
   "id": "8957d85e",
   "metadata": {},
   "outputs": [],
   "source": [
    "#file names\n",
    "entities_file_david = \"entities_nl_address.csv\"\n",
    "officers_file_david = \"officers_nl_address.csv\"\n",
    "#queries\n",
    "query_entity_david = \"MATCH (a:Address {countries: 'Netherlands'})-[rel:registered_address]-(e:Entity) RETURN e.name, a.address\"\n",
    "query_officer_david = \"MATCH (a:Address {countries: 'Netherlands'})-[rel:registered_address]-(o:Officer) RETURN o.name, a.address\""
   ]
  },
  {
   "cell_type": "code",
   "execution_count": null,
   "id": "62321c53",
   "metadata": {},
   "outputs": [],
   "source": [
    "#rerun queries\n",
    "query_response = db_session.run(query_entity_david)\n",
    "entities_david_reload = pd.DataFrame([dict(record.data()) for record in query_response])\n",
    "print(df_oneliner(entities_david_reload))\n",
    "query_response = db_session.run(query_officer_david)\n",
    "officers_david_reload = pd.DataFrame([dict(record.data()) for record in query_response])\n",
    "print(df_oneliner(officers_david_reload))"
   ]
  },
  {
   "cell_type": "code",
   "execution_count": null,
   "id": "86ca6a49",
   "metadata": {},
   "outputs": [],
   "source": [
    "#saved data\n",
    "entities_david_saved = pd.read_csv(os.path.join(data_david,entities_file_david))\n",
    "print(df_oneliner(entities_david_saved))\n",
    "officers_david_saved = pd.read_csv(os.path.join(data_david,officers_file_david))\n",
    "print(df_oneliner(officers_david_saved))"
   ]
  },
  {
   "cell_type": "code",
   "execution_count": null,
   "id": "0ddabe13",
   "metadata": {},
   "outputs": [],
   "source": [
    "#TODO: compare data with David's explicitly\n",
    "#TODO: adjust David's queries to work with country code\n",
    "#TODO: make composite search that finds all with Dutch connection\n",
    "#TODO: make 2nd generation (or further) matching based on full Dutch datasets\n",
    "#TODO: have summary statistics to compare prevalence of NL in the datasets (ideally by dataset)\n",
    "#TODO: make a setting to open read only by default so that people will not update the DB unless they explicitly want to\n",
    "#TODO: add batch size as general setting to the settings file"
   ]
  }
 ],
 "metadata": {
  "kernelspec": {
   "display_name": "Python 3 (ipykernel)",
   "language": "python",
   "name": "python3"
  },
  "language_info": {
   "codemirror_mode": {
    "name": "ipython",
    "version": 3
   },
   "file_extension": ".py",
   "mimetype": "text/x-python",
   "name": "python",
   "nbconvert_exporter": "python",
   "pygments_lexer": "ipython3",
   "version": "3.9.5"
  }
 },
 "nbformat": 4,
 "nbformat_minor": 5
}
