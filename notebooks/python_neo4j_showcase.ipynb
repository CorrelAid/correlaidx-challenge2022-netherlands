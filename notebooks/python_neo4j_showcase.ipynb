{
 "cells": [
  {
   "cell_type": "markdown",
   "id": "6a99055d",
   "metadata": {},
   "source": [
    "# Neo4j and Python Showcase\n",
    "\n",
    "This notebook is to show how to work with a Neo4j graph database using Python.\n",
    "It takes the Offshore Leaks database as an example.\n",
    "For actual development and work with the database, please create separate notebooks and scripts.\n",
    "This should just be to demonstrate how to connect.\n",
    "Currently it is just using the standard Neo4j Python Driver, but it could be extended to show how to use the alternatives."
   ]
  },
  {
   "cell_type": "markdown",
   "id": "91e48caf",
   "metadata": {},
   "source": [
    "## Preliminaries\n",
    "\n",
    "For this to work, you will need to have a few things set-up beforehand.\n",
    "\n",
    "1. A version 4 of neo4j needs to be installed, as the database is not compatible with version 5.\n",
    "    I suggest taking the latest version 4 which is 4.4.10 at the time of writing.\n",
    "    Using the requirements.txt file to install packages should mean you have a usable version installed.\n",
    "    Make sure the kernel you are using when running the notebook is one where you have this installed.\n",
    "2. The database already needs to be running locally on your machine.\n",
    "    So you have to have gone through the steps to set it up via Neo4j Desktop and started it up.\n",
    "3. The connection credentials need to be included.\n",
    "    These are saved in a hidden file (ignored by git), so you can update yours once and be good to go.\n",
    "    If this file is not found, it makes one from some defaults which probably won't work (due to the database password).\n",
    "    However, you can then edit the personal_settings.csv file (NOT the default_settings.csv file) to match your credentials.\n",
    "    Note that the setup here is designed to make it work simultaneously for all of us.\n",
    "    It is NOT a strong security method, so make sure your db password is NOT being used by you elsewhere for anything important."
   ]
  },
  {
   "cell_type": "code",
   "execution_count": null,
   "id": "d245cc9b",
   "metadata": {},
   "outputs": [],
   "source": [
    "#imports\n",
    "import os  #to find the settings file(s)\n",
    "import csv #to process the settings file(s)\n",
    "import shutil #to copy the settings file (if needed)\n",
    "from neo4j import GraphDatabase"
   ]
  },
  {
   "cell_type": "code",
   "execution_count": null,
   "id": "9b2a3c0c",
   "metadata": {},
   "outputs": [],
   "source": [
    "#get settings\n",
    "settings_dir = os.path.join(\"..\",\"settings\")\n",
    "personal_settings = os.path.join(settings_dir,\"personal_settings.csv\")\n",
    "if not \"personal_settings.csv\" in os.listdir(settings_dir):\n",
    "    default_settings = os.path.join(settings_dir,\"default_settings.csv\")\n",
    "    shutil.copy(default_settings, personal_settings)\n",
    "    print(\"Created new personal settings file, this probably needs to be edited before proceeding.\")\n",
    "with open(personal_settings, mode = 'r') as file:\n",
    "    user_settings = {}\n",
    "    for line in csv.DictReader(file):\n",
    "        user_settings[line['setting']] = line['value']\n",
    "db_uri = \"bolt://localhost:\" + str(user_settings['port_number'])"
   ]
  },
  {
   "cell_type": "markdown",
   "id": "81074ddd",
   "metadata": {},
   "source": [
    "## Connection and Example\n",
    "\n",
    "Assuming you have done the preliminaries, the code below should connect to the database and execute a simple query."
   ]
  },
  {
   "cell_type": "code",
   "execution_count": null,
   "id": "4dc7ff77",
   "metadata": {},
   "outputs": [],
   "source": [
    "db_connection = GraphDatabase.driver(db_uri, auth=(user_settings['username'],user_settings['password']))\n",
    "#TODO: have code to test directly that this step is working"
   ]
  },
  {
   "cell_type": "code",
   "execution_count": null,
   "id": "df55c9ee",
   "metadata": {},
   "outputs": [],
   "source": [
    "db_session = db_connection.session(database=user_settings['db_name'])\n",
    "#TODO: have code to test directly that this step is working"
   ]
  },
  {
   "cell_type": "code",
   "execution_count": null,
   "id": "26f76474",
   "metadata": {},
   "outputs": [],
   "source": [
    "# run sample query to check everything is working and print output\n",
    "query = \"match (n:Entity) where n.countries ends with 'Netherlands' return n.name limit 5\"\n",
    "query_response = db_session.run(query)\n",
    "for record in query_response:\n",
    "    print(record)"
   ]
  },
  {
   "cell_type": "code",
   "execution_count": null,
   "id": "ea102efa",
   "metadata": {},
   "outputs": [],
   "source": []
  }
 ],
 "metadata": {
  "kernelspec": {
   "display_name": "Python 3 (ipykernel)",
   "language": "python",
   "name": "python3"
  },
  "language_info": {
   "codemirror_mode": {
    "name": "ipython",
    "version": 3
   },
   "file_extension": ".py",
   "mimetype": "text/x-python",
   "name": "python",
   "nbconvert_exporter": "python",
   "pygments_lexer": "ipython3",
   "version": "3.9.5"
  }
 },
 "nbformat": 4,
 "nbformat_minor": 5
}
