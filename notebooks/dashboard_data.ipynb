{
 "cells": [
  {
   "cell_type": "markdown",
   "id": "97bbd169",
   "metadata": {},
   "source": [
    "# Dashboard Data Generator\n",
    "\n",
    "This notebook is to generate data to power the dashboard.\n",
    "The idea is to make csv extracts from the full dataset containing the necessary data for the dashboard"
   ]
  },
  {
   "cell_type": "markdown",
   "id": "54e1b433",
   "metadata": {},
   "source": [
    "## Preliminaries\n",
    "\n",
    "Please note the general set-up requirements contained in the repo readme and the _showcase_ notebook.\n",
    "Remember that the database needs to be running locally for this workbook to work."
   ]
  },
  {
   "cell_type": "code",
   "execution_count": null,
   "id": "e4682e9e",
   "metadata": {},
   "outputs": [],
   "source": [
    "#imports\n",
    "import os  #to find the settings file(s)\n",
    "import csv #to process the settings file(s)\n",
    "import shutil #to copy the settings file (if needed)\n",
    "from neo4j import GraphDatabase\n",
    "import pandas as pd\n",
    "from geopy.geocoders import Nominatim"
   ]
  },
  {
   "cell_type": "code",
   "execution_count": null,
   "id": "1a0610ca",
   "metadata": {},
   "outputs": [],
   "source": [
    "#get settings\n",
    "settings_dir = os.path.join(\"..\",\"settings\")\n",
    "personal_settings = os.path.join(settings_dir,\"personal_settings.csv\")\n",
    "if not \"personal_settings.csv\" in os.listdir(settings_dir):\n",
    "    default_settings = os.path.join(settings_dir,\"default_settings.csv\")\n",
    "    shutil.copy(default_settings, personal_settings)\n",
    "    print(\"Created new personal settings file, this probably needs to be edited before proceeding.\")\n",
    "with open(personal_settings, mode = 'r') as file:\n",
    "    user_settings = {}\n",
    "    for line in csv.DictReader(file):\n",
    "        user_settings[line['setting']] = line['value']\n",
    "db_uri = \"bolt://localhost:\" + str(user_settings['port_number'])"
   ]
  },
  {
   "cell_type": "code",
   "execution_count": null,
   "id": "065c9bb3",
   "metadata": {},
   "outputs": [],
   "source": [
    "#data paths\n",
    "data_store = os.path.join(\"..\",\"data\",\"extracts\",\"dutch_addresses\")\n",
    "data_dashboard = os.path.join(\"..\",\"dashboard\",\"data\")"
   ]
  },
  {
   "cell_type": "code",
   "execution_count": null,
   "id": "6fe17221",
   "metadata": {},
   "outputs": [],
   "source": [
    "db_connection = GraphDatabase.driver(db_uri, auth=(user_settings['username'],user_settings['password']))"
   ]
  },
  {
   "cell_type": "code",
   "execution_count": null,
   "id": "d5fb98ed",
   "metadata": {},
   "outputs": [],
   "source": [
    "db_session = db_connection.session(database=user_settings['db_name'])"
   ]
  },
  {
   "cell_type": "code",
   "execution_count": null,
   "id": "3b9a3020",
   "metadata": {},
   "outputs": [],
   "source": [
    "#functions to add coordinates to an address\n",
    "api_batch_size = 100\n",
    "geolocator = Nominatim(user_agent=\"nl-application\")  #initiate external tool to get coordinates from addresses\n",
    "\n",
    "def add_coordinates(row):  #lambda function to add coordinates to a row in a dataframe\n",
    "    temp_location = geolocator.geocode(row['address'])\n",
    "    if(temp_location):\n",
    "        row['longitude'] = temp_location.longitude\n",
    "        row['latitude'] = temp_location.latitude\n",
    "    row['api_check'] = True\n",
    "    return row"
   ]
  },
  {
   "cell_type": "markdown",
   "id": "03cd5819",
   "metadata": {},
   "source": [
    "## Create File Listing NL addresses by leak"
   ]
  },
  {
   "cell_type": "code",
   "execution_count": null,
   "id": "bcf54106",
   "metadata": {},
   "outputs": [],
   "source": [
    "query = \"MATCH (n:Address) WHERE n.country_codes CONTAINS 'NLD' RETURN n\"\n",
    "query_response = db_session.run(query)\n",
    "addresses_nl = pd.DataFrame([dict(record.data()['n']) for record in query_response])"
   ]
  },
  {
   "cell_type": "code",
   "execution_count": null,
   "id": "6753b399",
   "metadata": {},
   "outputs": [],
   "source": [
    "addresses_nl = addresses_nl[['node_id','address','leak']]"
   ]
  },
  {
   "cell_type": "code",
   "execution_count": null,
   "id": "5e2ac865",
   "metadata": {},
   "outputs": [],
   "source": [
    "addresses_nl.head(5)"
   ]
  },
  {
   "cell_type": "markdown",
   "id": "519c4b43",
   "metadata": {},
   "source": [
    "### Test geolocator\n",
    "\n",
    "We use an external service to translate the addresses to coordinates so that they can be easily plotted on a map."
   ]
  },
  {
   "cell_type": "code",
   "execution_count": null,
   "id": "7e7665e2",
   "metadata": {},
   "outputs": [],
   "source": [
    "location = geolocator.geocode(addresses_nl.iloc[0]['address'])\n",
    "location"
   ]
  },
  {
   "cell_type": "code",
   "execution_count": null,
   "id": "be551ca8",
   "metadata": {},
   "outputs": [],
   "source": [
    "location.longitude"
   ]
  },
  {
   "cell_type": "code",
   "execution_count": null,
   "id": "50ff1dee",
   "metadata": {},
   "outputs": [],
   "source": [
    "location.latitude"
   ]
  },
  {
   "cell_type": "markdown",
   "id": "17f5a9d8",
   "metadata": {},
   "source": [
    "### Add Coordinates\n",
    "\n",
    "The free online tools for finding coordinates from addresses have some limitations.\n",
    "Firstly, there are limitations about how often you can make a request.\n",
    "Secondly, if the address is not specified in the right format, the request can fail.\n",
    "I suspect that both of these are playing a factor in why the coordinate requests are producing only limited results.\n",
    "For this reason, we will do it in batches and the code here should _remember_ what coordinates have already been found.\n",
    "\n",
    "The data structure we use here is the following. \n",
    "We take node_id (for easy indexing later), address and leak as our starting point.\n",
    "In addition, we add longitude and latitude columns together with a an api check column and manual check column.\n",
    "This latter column allows for modifying the address into a format that the API likes.\n",
    "The api check column is to flag when we tried to find the address and failed."
   ]
  },
  {
   "cell_type": "code",
   "execution_count": null,
   "id": "a83ddddf",
   "metadata": {},
   "outputs": [],
   "source": [
    "save_columns = ['node_id', 'address', 'leak', 'api_check', 'manual_address', 'longitude', 'latitude']"
   ]
  },
  {
   "cell_type": "code",
   "execution_count": null,
   "id": "bc5ed8f7",
   "metadata": {},
   "outputs": [],
   "source": [
    "#check if there are any saved addresses, and save new if not found\n",
    "if len(os.listdir(data_store))==0:\n",
    "    for column in save_columns:\n",
    "        if column not in addresses_nl.columns:\n",
    "            if column == 'api_check':\n",
    "                addresses_nl[column] = False\n",
    "            else:\n",
    "                addresses_nl[column] = None\n",
    "    addresses_nl.to_csv(os.path.join(data_store,\"addresses_nl.csv\"), index=False)\n",
    "#load saved addresses\n",
    "saved_addresses = pd.read_csv(os.path.join(data_store,\"addresses_nl.csv\"), index_col ='node_id')\n",
    "saved_addresses.head(3)"
   ]
  },
  {
   "cell_type": "code",
   "execution_count": null,
   "id": "0e7356cd",
   "metadata": {},
   "outputs": [],
   "source": [
    "saved_addresses[saved_addresses['api_check']].shape[0]  #number of checked addresses"
   ]
  },
  {
   "cell_type": "code",
   "execution_count": null,
   "id": "9cdbf460",
   "metadata": {},
   "outputs": [],
   "source": [
    "saved_addresses[~saved_addresses['longitude'].isnull()].shape[0]  #number of found coordinates"
   ]
  },
  {
   "cell_type": "code",
   "execution_count": null,
   "id": "ddc7d526",
   "metadata": {},
   "outputs": [],
   "source": [
    "#create subset of addresses to be passed to the api\n",
    "address_sample = saved_addresses[saved_addresses['api_check']==False].iloc[0:api_batch_size] #filter out already checked addresses and limit size\n",
    "address_sample.head(5)"
   ]
  },
  {
   "cell_type": "code",
   "execution_count": null,
   "id": "586cd3e7",
   "metadata": {},
   "outputs": [],
   "source": [
    "#pass sample addresses to the api\n",
    "address_sample = address_sample.apply(add_coordinates, axis=1)\n",
    "address_sample.head(5)"
   ]
  },
  {
   "cell_type": "code",
   "execution_count": null,
   "id": "42689110",
   "metadata": {},
   "outputs": [],
   "source": [
    "#merge back address sample to main dataset\n",
    "saved_addresses.update(address_sample)"
   ]
  },
  {
   "cell_type": "code",
   "execution_count": null,
   "id": "ac873349",
   "metadata": {},
   "outputs": [],
   "source": [
    "saved_addresses[saved_addresses['api_check']].shape[0]  #number of checked addresses"
   ]
  },
  {
   "cell_type": "code",
   "execution_count": null,
   "id": "00e5fb40",
   "metadata": {},
   "outputs": [],
   "source": [
    "saved_addresses[~saved_addresses['longitude'].isnull()].shape[0]  #number of found coordinates"
   ]
  },
  {
   "cell_type": "code",
   "execution_count": null,
   "id": "422f4be1",
   "metadata": {},
   "outputs": [],
   "source": [
    "#save data\n",
    "saved_addresses.to_csv(os.path.join(data_store,\"addresses_nl.csv\"), index=True)"
   ]
  },
  {
   "cell_type": "code",
   "execution_count": null,
   "id": "cabf8344",
   "metadata": {},
   "outputs": [],
   "source": [
    "#export data to dashboard\n",
    "saved_addresses.to_csv(os.path.join(data_dashboard,\"addresses_nl.csv\"), index=True)"
   ]
  },
  {
   "cell_type": "code",
   "execution_count": null,
   "id": "b6309442",
   "metadata": {},
   "outputs": [],
   "source": [
    "#TODO: run on more addresses\n",
    "#TODO: include more data columns in the addresses data set\n",
    "#TODO: deal with addresses not found automatically"
   ]
  }
 ],
 "metadata": {
  "kernelspec": {
   "display_name": "Python 3 (ipykernel)",
   "language": "python",
   "name": "python3"
  },
  "language_info": {
   "codemirror_mode": {
    "name": "ipython",
    "version": 3
   },
   "file_extension": ".py",
   "mimetype": "text/x-python",
   "name": "python",
   "nbconvert_exporter": "python",
   "pygments_lexer": "ipython3",
   "version": "3.9.5"
  }
 },
 "nbformat": 4,
 "nbformat_minor": 5
}
