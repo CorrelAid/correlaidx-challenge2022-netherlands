{
 "cells": [
  {
   "cell_type": "markdown",
   "id": "97bbd169",
   "metadata": {},
   "source": [
    "# Dashboard Data Generator\n",
    "\n",
    "This notebook is to generate data to power the dashboard.\n",
    "The idea is to make csv extracts from the full dataset containing the necessary data for the dashboard"
   ]
  },
  {
   "cell_type": "markdown",
   "id": "54e1b433",
   "metadata": {},
   "source": [
    "## Preliminaries\n",
    "\n",
    "Please note the general set-up requirements contained in the repo readme and the _showcase_ notebook.\n",
    "Remember that the database needs to be running locally for this workbook to work."
   ]
  },
  {
   "cell_type": "code",
   "execution_count": 24,
   "id": "e4682e9e",
   "metadata": {},
   "outputs": [],
   "source": [
    "#imports\n",
    "import os  #to find the settings file(s)\n",
    "import csv #to process the settings file(s)\n",
    "import shutil #to copy the settings file (if needed)\n",
    "from neo4j import GraphDatabase\n",
    "import pandas as pd\n",
    "from geopy.geocoders import Nominatim"
   ]
  },
  {
   "cell_type": "code",
   "execution_count": 2,
   "id": "1a0610ca",
   "metadata": {},
   "outputs": [],
   "source": [
    "#get settings\n",
    "settings_dir = os.path.join(\"..\",\"settings\")\n",
    "personal_settings = os.path.join(settings_dir,\"personal_settings.csv\")\n",
    "if not \"personal_settings.csv\" in os.listdir(settings_dir):\n",
    "    default_settings = os.path.join(settings_dir,\"default_settings.csv\")\n",
    "    shutil.copy(default_settings, personal_settings)\n",
    "    print(\"Created new personal settings file, this probably needs to be edited before proceeding.\")\n",
    "with open(personal_settings, mode = 'r') as file:\n",
    "    user_settings = {}\n",
    "    for line in csv.DictReader(file):\n",
    "        user_settings[line['setting']] = line['value']\n",
    "db_uri = \"bolt://localhost:\" + str(user_settings['port_number'])"
   ]
  },
  {
   "cell_type": "code",
   "execution_count": 10,
   "id": "065c9bb3",
   "metadata": {},
   "outputs": [
    {
     "data": {
      "text/plain": [
       "['temp_data.csv']"
      ]
     },
     "execution_count": 10,
     "metadata": {},
     "output_type": "execute_result"
    }
   ],
   "source": [
    "#data path\n",
    "data_output = os.path.join(\"..\",\"dashboard\",\"data\")\n",
    "os.listdir(data_output)"
   ]
  },
  {
   "cell_type": "code",
   "execution_count": 11,
   "id": "6fe17221",
   "metadata": {},
   "outputs": [],
   "source": [
    "db_connection = GraphDatabase.driver(db_uri, auth=(user_settings['username'],user_settings['password']))"
   ]
  },
  {
   "cell_type": "code",
   "execution_count": 12,
   "id": "d5fb98ed",
   "metadata": {},
   "outputs": [],
   "source": [
    "db_session = db_connection.session(database=user_settings['db_name'])"
   ]
  },
  {
   "cell_type": "code",
   "execution_count": 38,
   "id": "3b9a3020",
   "metadata": {},
   "outputs": [],
   "source": [
    "#functions to add coordinates to an address\n",
    "geolocator = Nominatim(user_agent=\"nl-application\")  #initiate external tool to get coordinates from addresses\n",
    "\n",
    "def add_coordinates(row):  #lambda function to add coordinates to a row in a dataframe\n",
    "    temp_location = geolocator.geocode(row['address'])\n",
    "    if(temp_location):\n",
    "        row['longitude'] = temp_location.longitude\n",
    "        row['latitude'] = temp_location.latitude\n",
    "    return row"
   ]
  },
  {
   "cell_type": "markdown",
   "id": "03cd5819",
   "metadata": {},
   "source": [
    "## Create File Listing NL addresses by leak"
   ]
  },
  {
   "cell_type": "code",
   "execution_count": 63,
   "id": "bcf54106",
   "metadata": {},
   "outputs": [],
   "source": [
    "query = \"MATCH (n:Address) WHERE n.country_codes CONTAINS 'NLD' RETURN n\"\n",
    "query_response = db_session.run(query)\n",
    "addresses_nl = pd.DataFrame([dict(record.data()['n']) for record in query_response])"
   ]
  },
  {
   "cell_type": "code",
   "execution_count": 41,
   "id": "6753b399",
   "metadata": {},
   "outputs": [],
   "source": [
    "addresses_nl = addresses_nl[['address','leak']]"
   ]
  },
  {
   "cell_type": "code",
   "execution_count": 42,
   "id": "5e2ac865",
   "metadata": {},
   "outputs": [
    {
     "data": {
      "text/html": [
       "<div>\n",
       "<style scoped>\n",
       "    .dataframe tbody tr th:only-of-type {\n",
       "        vertical-align: middle;\n",
       "    }\n",
       "\n",
       "    .dataframe tbody tr th {\n",
       "        vertical-align: top;\n",
       "    }\n",
       "\n",
       "    .dataframe thead th {\n",
       "        text-align: right;\n",
       "    }\n",
       "</style>\n",
       "<table border=\"1\" class=\"dataframe\">\n",
       "  <thead>\n",
       "    <tr style=\"text-align: right;\">\n",
       "      <th></th>\n",
       "      <th>address</th>\n",
       "      <th>leak</th>\n",
       "    </tr>\n",
       "  </thead>\n",
       "  <tbody>\n",
       "    <tr>\n",
       "      <th>0</th>\n",
       "      <td>10 Langs de Heij Sittard, The Netherlands</td>\n",
       "      <td>Panama Papers</td>\n",
       "    </tr>\n",
       "    <tr>\n",
       "      <th>1</th>\n",
       "      <td>31 MAIN STREET EDENHAM; BOURNE LINCS; PE10 OLL</td>\n",
       "      <td>Panama Papers</td>\n",
       "    </tr>\n",
       "    <tr>\n",
       "      <th>2</th>\n",
       "      <td>35 Konijnenlaan; Wassenaar; The Netherlands</td>\n",
       "      <td>Panama Papers</td>\n",
       "    </tr>\n",
       "    <tr>\n",
       "      <th>3</th>\n",
       "      <td>4 OF GALON STR.; WOLFRATESHOUSEN 82515; THE NE...</td>\n",
       "      <td>Panama Papers</td>\n",
       "    </tr>\n",
       "    <tr>\n",
       "      <th>4</th>\n",
       "      <td>5 Konijnenlaan; Wassenaar; The Netherlands</td>\n",
       "      <td>Panama Papers</td>\n",
       "    </tr>\n",
       "  </tbody>\n",
       "</table>\n",
       "</div>"
      ],
      "text/plain": [
       "                                             address           leak\n",
       "0          10 Langs de Heij Sittard, The Netherlands  Panama Papers\n",
       "1     31 MAIN STREET EDENHAM; BOURNE LINCS; PE10 OLL  Panama Papers\n",
       "2        35 Konijnenlaan; Wassenaar; The Netherlands  Panama Papers\n",
       "3  4 OF GALON STR.; WOLFRATESHOUSEN 82515; THE NE...  Panama Papers\n",
       "4         5 Konijnenlaan; Wassenaar; The Netherlands  Panama Papers"
      ]
     },
     "execution_count": 42,
     "metadata": {},
     "output_type": "execute_result"
    }
   ],
   "source": [
    "addresses_nl.head(5)"
   ]
  },
  {
   "cell_type": "code",
   "execution_count": 43,
   "id": "7e7665e2",
   "metadata": {},
   "outputs": [
    {
     "data": {
      "text/plain": [
       "Location(10, Langs de Heij, Noord, Sittard, Sittard-Geleen, Limburg, Nederland, 6136 KR, Nederland, (51.017214, 5.8690725, 0.0))"
      ]
     },
     "execution_count": 43,
     "metadata": {},
     "output_type": "execute_result"
    }
   ],
   "source": [
    "location = geolocator.geocode(addresses_nl.iloc[0]['address'])\n",
    "location"
   ]
  },
  {
   "cell_type": "code",
   "execution_count": 29,
   "id": "be551ca8",
   "metadata": {},
   "outputs": [
    {
     "data": {
      "text/plain": [
       "5.8690725"
      ]
     },
     "execution_count": 29,
     "metadata": {},
     "output_type": "execute_result"
    }
   ],
   "source": [
    "location.longitude"
   ]
  },
  {
   "cell_type": "code",
   "execution_count": 30,
   "id": "50ff1dee",
   "metadata": {},
   "outputs": [
    {
     "data": {
      "text/plain": [
       "51.017214"
      ]
     },
     "execution_count": 30,
     "metadata": {},
     "output_type": "execute_result"
    }
   ],
   "source": [
    "location.latitude"
   ]
  },
  {
   "cell_type": "code",
   "execution_count": 44,
   "id": "8b9eeab6",
   "metadata": {},
   "outputs": [
    {
     "data": {
      "text/plain": [
       "address      10 Langs de Heij Sittard, The Netherlands\n",
       "leak                                     Panama Papers\n",
       "longitude                                     5.869072\n",
       "latitude                                     51.017214\n",
       "Name: 0, dtype: object"
      ]
     },
     "execution_count": 44,
     "metadata": {},
     "output_type": "execute_result"
    }
   ],
   "source": [
    "temp_row = addresses_nl.iloc[0]\n",
    "add_coordinates(temp_row)"
   ]
  },
  {
   "cell_type": "code",
   "execution_count": 53,
   "id": "1004ab7a",
   "metadata": {},
   "outputs": [],
   "source": [
    "short_addresses = addresses_nl.iloc[0:100]"
   ]
  },
  {
   "cell_type": "code",
   "execution_count": 58,
   "id": "515f329c",
   "metadata": {},
   "outputs": [],
   "source": [
    "short_addresses = short_addresses.apply(add_coordinates, axis=1)"
   ]
  },
  {
   "cell_type": "code",
   "execution_count": 59,
   "id": "a830f520",
   "metadata": {},
   "outputs": [
    {
     "data": {
      "text/html": [
       "<div>\n",
       "<style scoped>\n",
       "    .dataframe tbody tr th:only-of-type {\n",
       "        vertical-align: middle;\n",
       "    }\n",
       "\n",
       "    .dataframe tbody tr th {\n",
       "        vertical-align: top;\n",
       "    }\n",
       "\n",
       "    .dataframe thead th {\n",
       "        text-align: right;\n",
       "    }\n",
       "</style>\n",
       "<table border=\"1\" class=\"dataframe\">\n",
       "  <thead>\n",
       "    <tr style=\"text-align: right;\">\n",
       "      <th></th>\n",
       "      <th>address</th>\n",
       "      <th>latitude</th>\n",
       "      <th>leak</th>\n",
       "      <th>longitude</th>\n",
       "    </tr>\n",
       "  </thead>\n",
       "  <tbody>\n",
       "    <tr>\n",
       "      <th>0</th>\n",
       "      <td>10 Langs de Heij Sittard, The Netherlands</td>\n",
       "      <td>51.017214</td>\n",
       "      <td>Panama Papers</td>\n",
       "      <td>5.869072</td>\n",
       "    </tr>\n",
       "    <tr>\n",
       "      <th>1</th>\n",
       "      <td>31 MAIN STREET EDENHAM; BOURNE LINCS; PE10 OLL</td>\n",
       "      <td>NaN</td>\n",
       "      <td>Panama Papers</td>\n",
       "      <td>NaN</td>\n",
       "    </tr>\n",
       "    <tr>\n",
       "      <th>2</th>\n",
       "      <td>35 Konijnenlaan; Wassenaar; The Netherlands</td>\n",
       "      <td>52.124550</td>\n",
       "      <td>Panama Papers</td>\n",
       "      <td>4.368802</td>\n",
       "    </tr>\n",
       "    <tr>\n",
       "      <th>3</th>\n",
       "      <td>4 OF GALON STR.; WOLFRATESHOUSEN 82515; THE NE...</td>\n",
       "      <td>NaN</td>\n",
       "      <td>Panama Papers</td>\n",
       "      <td>NaN</td>\n",
       "    </tr>\n",
       "    <tr>\n",
       "      <th>4</th>\n",
       "      <td>5 Konijnenlaan; Wassenaar; The Netherlands</td>\n",
       "      <td>52.129700</td>\n",
       "      <td>Panama Papers</td>\n",
       "      <td>4.377273</td>\n",
       "    </tr>\n",
       "    <tr>\n",
       "      <th>...</th>\n",
       "      <td>...</td>\n",
       "      <td>...</td>\n",
       "      <td>...</td>\n",
       "      <td>...</td>\n",
       "    </tr>\n",
       "    <tr>\n",
       "      <th>95</th>\n",
       "      <td>KAYA RICHARD J BEAUJON CURACAO THE NETHERLANDS</td>\n",
       "      <td>NaN</td>\n",
       "      <td>Panama Papers</td>\n",
       "      <td>NaN</td>\n",
       "    </tr>\n",
       "    <tr>\n",
       "      <th>96</th>\n",
       "      <td>Keizersgracht 369B; 1016 EJ Amsterdam; The Net...</td>\n",
       "      <td>52.368339</td>\n",
       "      <td>Panama Papers</td>\n",
       "      <td>4.884904</td>\n",
       "    </tr>\n",
       "    <tr>\n",
       "      <th>97</th>\n",
       "      <td>KERKSTRASD 43 A; 2271 CR VOORBURG; THE NETHERL...</td>\n",
       "      <td>NaN</td>\n",
       "      <td>Panama Papers</td>\n",
       "      <td>NaN</td>\n",
       "    </tr>\n",
       "    <tr>\n",
       "      <th>98</th>\n",
       "      <td>Klagerstuin 47; 1689; JP Zwaag; Netherlands</td>\n",
       "      <td>52.666846</td>\n",
       "      <td>Panama Papers</td>\n",
       "      <td>5.058582</td>\n",
       "    </tr>\n",
       "    <tr>\n",
       "      <th>99</th>\n",
       "      <td>KRAAL 36; SLIEDRECHT 3362 WD; THE NETHERLANDS</td>\n",
       "      <td>51.821378</td>\n",
       "      <td>Panama Papers</td>\n",
       "      <td>4.801276</td>\n",
       "    </tr>\n",
       "  </tbody>\n",
       "</table>\n",
       "<p>100 rows × 4 columns</p>\n",
       "</div>"
      ],
      "text/plain": [
       "                                              address   latitude  \\\n",
       "0           10 Langs de Heij Sittard, The Netherlands  51.017214   \n",
       "1      31 MAIN STREET EDENHAM; BOURNE LINCS; PE10 OLL        NaN   \n",
       "2         35 Konijnenlaan; Wassenaar; The Netherlands  52.124550   \n",
       "3   4 OF GALON STR.; WOLFRATESHOUSEN 82515; THE NE...        NaN   \n",
       "4          5 Konijnenlaan; Wassenaar; The Netherlands  52.129700   \n",
       "..                                                ...        ...   \n",
       "95     KAYA RICHARD J BEAUJON CURACAO THE NETHERLANDS        NaN   \n",
       "96  Keizersgracht 369B; 1016 EJ Amsterdam; The Net...  52.368339   \n",
       "97  KERKSTRASD 43 A; 2271 CR VOORBURG; THE NETHERL...        NaN   \n",
       "98        Klagerstuin 47; 1689; JP Zwaag; Netherlands  52.666846   \n",
       "99      KRAAL 36; SLIEDRECHT 3362 WD; THE NETHERLANDS  51.821378   \n",
       "\n",
       "             leak  longitude  \n",
       "0   Panama Papers   5.869072  \n",
       "1   Panama Papers        NaN  \n",
       "2   Panama Papers   4.368802  \n",
       "3   Panama Papers        NaN  \n",
       "4   Panama Papers   4.377273  \n",
       "..            ...        ...  \n",
       "95  Panama Papers        NaN  \n",
       "96  Panama Papers   4.884904  \n",
       "97  Panama Papers        NaN  \n",
       "98  Panama Papers   5.058582  \n",
       "99  Panama Papers   4.801276  \n",
       "\n",
       "[100 rows x 4 columns]"
      ]
     },
     "execution_count": 59,
     "metadata": {},
     "output_type": "execute_result"
    }
   ],
   "source": [
    "short_addresses"
   ]
  },
  {
   "cell_type": "code",
   "execution_count": 64,
   "id": "93253a63",
   "metadata": {},
   "outputs": [],
   "source": [
    "#addresses_nl.apply(add_coordinates, axis=1)"
   ]
  },
  {
   "cell_type": "code",
   "execution_count": 60,
   "id": "422f4be1",
   "metadata": {},
   "outputs": [],
   "source": [
    "short_addresses.to_csv(os.path.join(data_output,\"addresses_nl.csv\"))"
   ]
  },
  {
   "cell_type": "code",
   "execution_count": 65,
   "id": "b6309442",
   "metadata": {},
   "outputs": [],
   "source": [
    "#TODO: run on more addresses\n",
    "#TODO: include more data columns in the addresses data set\n",
    "#TODO: deal with addresses not found automatically"
   ]
  },
  {
   "cell_type": "code",
   "execution_count": null,
   "id": "6bbbb23d",
   "metadata": {},
   "outputs": [],
   "source": []
  }
 ],
 "metadata": {
  "kernelspec": {
   "display_name": "Python 3 (ipykernel)",
   "language": "python",
   "name": "python3"
  },
  "language_info": {
   "codemirror_mode": {
    "name": "ipython",
    "version": 3
   },
   "file_extension": ".py",
   "mimetype": "text/x-python",
   "name": "python",
   "nbconvert_exporter": "python",
   "pygments_lexer": "ipython3",
   "version": "3.9.5"
  }
 },
 "nbformat": 4,
 "nbformat_minor": 5
}
